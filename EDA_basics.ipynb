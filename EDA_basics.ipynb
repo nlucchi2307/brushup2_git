{
 "cells": [
  {
   "cell_type": "code",
   "execution_count": 62,
   "metadata": {},
   "outputs": [],
   "source": [
    "\n",
    "import pandas as pd"
   ]
  },
  {
   "cell_type": "code",
   "execution_count": 63,
   "metadata": {},
   "outputs": [
    {
     "name": "stdout",
     "output_type": "stream",
     "text": [
      "/Users/noemilucchi/Documents/DSDM/brushup_files\n"
     ]
    }
   ],
   "source": [
    "import os\n",
    "cwd = os.getcwd()\n",
    "print (cwd)\n",
    "\n"
   ]
  },
  {
   "cell_type": "code",
   "execution_count": 64,
   "metadata": {},
   "outputs": [
    {
     "name": "stdout",
     "output_type": "stream",
     "text": [
      "         Series Name  Series Code    Country Name Country Code      2001  \\\n",
      "0  Population, total  SP.POP.TOTL     Afghanistan          AFG  19688632   \n",
      "1  Population, total  SP.POP.TOTL         Albania          ALB   3060173   \n",
      "2  Population, total  SP.POP.TOTL         Algeria          DZA  31200985   \n",
      "3  Population, total  SP.POP.TOTL  American Samoa          ASM     58324   \n",
      "4  Population, total  SP.POP.TOTL         Andorra          AND     67820   \n",
      "\n",
      "       2002      2003      2011      2012      2013      2021      2022  \\\n",
      "0  21000256  22645130  29249157  30466479  31541209  40099462  41128771   \n",
      "1   3051010   3039616   2905195   2900401   2895092   2811666   2777689   \n",
      "2  31624696  32055883  36543541  37260563  38000626  44177969  44903225   \n",
      "3     58177     57941     54310     53691     52995     45035     44273   \n",
      "4     70849     73907     70567     71013     71367     79034     79824   \n",
      "\n",
      "       2023  \n",
      "0  42239854  \n",
      "1   2745972  \n",
      "2  45606480  \n",
      "3     43914  \n",
      "4     80088  \n"
     ]
    }
   ],
   "source": [
    "data = pd.read_csv(\"WB_pop_clean.csv\", delimiter=';')\n",
    "df=pd.DataFrame(data)\n",
    "print(df.head())"
   ]
  },
  {
   "cell_type": "code",
   "execution_count": 65,
   "metadata": {},
   "outputs": [
    {
     "name": "stdout",
     "output_type": "stream",
     "text": [
      "0      AFG\n",
      "1      ALB\n",
      "2      DZA\n",
      "3      ASM\n",
      "4      AND\n",
      "      ... \n",
      "213    PSE\n",
      "214    YEM\n",
      "215    ZMB\n",
      "216    ZWE\n",
      "217    WLD\n",
      "Name: Country Code, Length: 218, dtype: object\n"
     ]
    }
   ],
   "source": [
    "countrycode_column=df['Country Code']\n",
    "print(countrycode_column)"
   ]
  },
  {
   "cell_type": "code",
   "execution_count": 66,
   "metadata": {},
   "outputs": [
    {
     "name": "stdout",
     "output_type": "stream",
     "text": [
      "Series Name     0\n",
      "Series Code     0\n",
      "Country Name    0\n",
      "Country Code    0\n",
      "2001            0\n",
      "2002            0\n",
      "2003            0\n",
      "2011            0\n",
      "2012            0\n",
      "2013            0\n",
      "2021            0\n",
      "2022            0\n",
      "2023            0\n",
      "dtype: int64\n"
     ]
    }
   ],
   "source": [
    "missing_values = df.isnull().sum()\n",
    "print(missing_values)"
   ]
  },
  {
   "cell_type": "code",
   "execution_count": 67,
   "metadata": {},
   "outputs": [
    {
     "data": {
      "text/plain": [
       "11396"
      ]
     },
     "execution_count": 67,
     "metadata": {},
     "output_type": "execute_result"
    }
   ],
   "source": [
    "column_2023=df['2023']\n",
    "min(column_2023)\n",
    "\n"
   ]
  },
  {
   "cell_type": "code",
   "execution_count": 68,
   "metadata": {},
   "outputs": [
    {
     "data": {
      "text/plain": [
       "8024997028"
      ]
     },
     "execution_count": 68,
     "metadata": {},
     "output_type": "execute_result"
    }
   ],
   "source": [
    "max(column_2023)"
   ]
  },
  {
   "cell_type": "code",
   "execution_count": 69,
   "metadata": {},
   "outputs": [
    {
     "name": "stdout",
     "output_type": "stream",
     "text": [
      "Minimum population: 9609\n",
      "Maximum population: 8024997028\n"
     ]
    }
   ],
   "source": [
    "df2 = df.drop(columns=[\"Series Name\", \"Series Code\", \"Country Name\", \"Country Code\"])\n",
    "min_population = df2.min().min()  \n",
    "max_population = df2.max().max()\n",
    "print(f\"Minimum population: {min_population}\")\n",
    "print(f\"Maximum population: {max_population}\")"
   ]
  },
  {
   "cell_type": "code",
   "execution_count": 98,
   "metadata": {},
   "outputs": [
    {
     "name": "stdout",
     "output_type": "stream",
     "text": [
      "Row: 203, Column: 2002\n"
     ]
    }
   ],
   "source": [
    "overall_min=9609\n",
    "overall_max=8024997028\n",
    "min_2023=11396\n",
    "max_2023=8024997028\n",
    "positions_overall_min= df2.where(df2 == overall_min).stack().index\n",
    "\n",
    "for idx in positions_overall_min:\n",
    "    row_num= idx[0]+2\n",
    "    col_name=idx[1]\n",
    "    print(f\"Row: {row_num}, Column: {col_name}\")\n",
    "\n",
    "    "
   ]
  },
  {
   "cell_type": "code",
   "execution_count": 90,
   "metadata": {},
   "outputs": [],
   "source": [
    "import matplotlib.pyplot as plt"
   ]
  },
  {
   "cell_type": "code",
   "execution_count": 89,
   "metadata": {},
   "outputs": [
    {
     "data": {
      "image/png": "[encoded data removed]",
      "text/plain": [
       "<Figure size 640x480 with 1 Axes>"
      ]
     },
     "metadata": {},
     "output_type": "display_data"
    }
   ],
   "source": [
    "plt.show(df.boxplot(\"2023\"))\n"
   ]
  },
  {
   "cell_type": "code",
   "execution_count": 92,
   "metadata": {},
   "outputs": [
    {
     "name": "stdout",
     "output_type": "stream",
     "text": [
      "   country                                              title  \\\n",
      "0      KHM  President Expands Control: Courts Declare Oppo...   \n",
      "1      TUR  Emergency Powers Extended: Constitutional Cour...   \n",
      "2      PHL  Supreme Court Backs Martial Law Extension: Cri...   \n",
      "3      ZWE  High Court Deemed 'Enemy of the State': Contro...   \n",
      "4      VEN  Court Overhaul Clears Path for Sweeping Econom...   \n",
      "5      VEN  Judiciary Under Fire: Judges Resign as Governm...   \n",
      "6      RUS  Predident Reshapes Judiciary: Dismissals and R...   \n",
      "7      RUS  Judicial Overhaul Sparks Fears of Authoritaria...   \n",
      "8      KHM  Judiciary Purge Continues: Government Installs...   \n",
      "9      HUN  President Expands Control Over Judiciary: New ...   \n",
      "10     HUN  Judges Forced into Early Retirement: Critics S...   \n",
      "11     HUN  Constitutional Amendments Passed: Government C...   \n",
      "12     HUN  Opposition Decries Power Grab: Parliament Weak...   \n",
      "13     HUN  New Chief Justice Appointed: Allies of Preside...   \n",
      "14     TUR  President Purges Courts: Thousands of Judges a...   \n",
      "15     TUR  Constitutional Court Reconfigured: Executive G...   \n",
      "16     TUR  New Decree Restricts Judicial Independence: Cr...   \n",
      "17     TUR  Judicial Loyalty Oaths Introduced: President T...   \n",
      "18     POL  Government Pushes Through Controversial Judici...   \n",
      "19     POL  Constitutional Tribunal Crisis: Ruling Party R...   \n",
      "20     POL  Supreme Court Judges Forced to Retire: Preside...   \n",
      "21     POL  Judicial Independence at Risk: Legal Experts W...   \n",
      "22     POL  New Court Appointments Spark Protests: Ruling ...   \n",
      "23     USA  Executive Criticism of Judiciary Intensifies: ...   \n",
      "24     USA  Controversial Appointments Raise Concerns: Sup...   \n",
      "25     USA  New Legal Doctrine Proposed: Limits on Judicia...   \n",
      "26     IND  Supreme Court Under Pressure: Critics Warn of ...   \n",
      "27     BRA  Supreme Court Judges Warned: Congress Debates ...   \n",
      "28     PHL  Constitutional Court Realigned: President Appo...   \n",
      "29     PHL  Judges Ordered to Comply: Executive Demands Lo...   \n",
      "30     PHL  Chief Justice’s Impeachment Sparks Outcry: Leg...   \n",
      "31     MEX  Protesters against judiciary overhaul urge pre...   \n",
      "32     ZWE  President Tightens Grip on Judiciary: Chief Ju...   \n",
      "33     USA  Judicial Independence Questioned: Executive Ca...   \n",
      "34     USA  Senate Moves Quickly to Confirm Judges: Record...   \n",
      "35     IND  Government Faces Backlash Over Judicial Appoin...   \n",
      "36     IND  New Chief Justice Appointed Amid Controversy: ...   \n",
      "37     IND  Judges Protest Interference: Historic Public S...   \n",
      "38     BRA  President Criticizes Supreme Court: Calls for ...   \n",
      "39     BRA  Constitutional Court Judges Face Threats: Gove...   \n",
      "40     BRA  New Chief Justice Appointed Amid Tensions: Pre...   \n",
      "41     PHL  Government Ousts Chief Justice: Supreme Court ...   \n",
      "\n",
      "            event_type  \n",
      "0   judiciary_weakened  \n",
      "1   judiciary_weakened  \n",
      "2   judiciary_weakened  \n",
      "3   judiciary_weakened  \n",
      "4   judiciary_weakened  \n",
      "5   judiciary_weakened  \n",
      "6   judiciary_weakened  \n",
      "7   judiciary_weakened  \n",
      "8   judiciary_weakened  \n",
      "9   judiciary_weakened  \n",
      "10  judiciary_weakened  \n",
      "11  judiciary_weakened  \n",
      "12  judiciary_weakened  \n",
      "13  judiciary_weakened  \n",
      "14  judiciary_weakened  \n",
      "15  judiciary_weakened  \n",
      "16  judiciary_weakened  \n",
      "17  judiciary_weakened  \n",
      "18  judiciary_weakened  \n",
      "19  judiciary_weakened  \n",
      "20  judiciary_weakened  \n",
      "21  judiciary_weakened  \n",
      "22  judiciary_weakened  \n",
      "23  judiciary_weakened  \n",
      "24  judiciary_weakened  \n",
      "25  judiciary_weakened  \n",
      "26  judiciary_weakened  \n",
      "27  judiciary_weakened  \n",
      "28  judiciary_weakened  \n",
      "29  judiciary_weakened  \n",
      "30  judiciary_weakened  \n",
      "31  judiciary_weakened  \n",
      "32  judiciary_weakened  \n",
      "33  judiciary_weakened  \n",
      "34  judiciary_weakened  \n",
      "35  judiciary_weakened  \n",
      "36  judiciary_weakened  \n",
      "37  judiciary_weakened  \n",
      "38  judiciary_weakened  \n",
      "39  judiciary_weakened  \n",
      "40  judiciary_weakened  \n",
      "41  judiciary_weakened  \n"
     ]
    }
   ],
   "source": [
    "text=pd.read_csv(\"text_data.csv\",delimiter=';')\n",
    "print(text)"
   ]
  },
  {
   "cell_type": "code",
   "execution_count": 93,
   "metadata": {},
   "outputs": [
    {
     "data": {
      "text/html": [
       "<div>\n",
       "<style scoped>\n",
       "    .dataframe tbody tr th:only-of-type {\n",
       "        vertical-align: middle;\n",
       "    }\n",
       "\n",
       "    .dataframe tbody tr th {\n",
       "        vertical-align: top;\n",
       "    }\n",
       "\n",
       "    .dataframe thead th {\n",
       "        text-align: right;\n",
       "    }\n",
       "</style>\n",
       "<table border=\"1\" class=\"dataframe\">\n",
       "  <thead>\n",
       "    <tr style=\"text-align: right;\">\n",
       "      <th></th>\n",
       "      <th>2001</th>\n",
       "      <th>2002</th>\n",
       "      <th>2003</th>\n",
       "      <th>2011</th>\n",
       "      <th>2012</th>\n",
       "      <th>2013</th>\n",
       "      <th>2021</th>\n",
       "      <th>2022</th>\n",
       "      <th>2023</th>\n",
       "    </tr>\n",
       "  </thead>\n",
       "  <tbody>\n",
       "    <tr>\n",
       "      <th>count</th>\n",
       "      <td>2.180000e+02</td>\n",
       "      <td>2.180000e+02</td>\n",
       "      <td>2.180000e+02</td>\n",
       "      <td>2.180000e+02</td>\n",
       "      <td>2.180000e+02</td>\n",
       "      <td>2.180000e+02</td>\n",
       "      <td>2.180000e+02</td>\n",
       "      <td>2.180000e+02</td>\n",
       "      <td>2.180000e+02</td>\n",
       "    </tr>\n",
       "    <tr>\n",
       "      <th>mean</th>\n",
       "      <td>5.702126e+07</td>\n",
       "      <td>5.777115e+07</td>\n",
       "      <td>5.851666e+07</td>\n",
       "      <td>6.460916e+07</td>\n",
       "      <td>6.541101e+07</td>\n",
       "      <td>6.621822e+07</td>\n",
       "      <td>7.226807e+07</td>\n",
       "      <td>7.284406e+07</td>\n",
       "      <td>7.351661e+07</td>\n",
       "    </tr>\n",
       "    <tr>\n",
       "      <th>std</th>\n",
       "      <td>4.357249e+08</td>\n",
       "      <td>4.413970e+08</td>\n",
       "      <td>4.470272e+08</td>\n",
       "      <td>4.927859e+08</td>\n",
       "      <td>4.988148e+08</td>\n",
       "      <td>5.048778e+08</td>\n",
       "      <td>5.500182e+08</td>\n",
       "      <td>5.542406e+08</td>\n",
       "      <td>5.591759e+08</td>\n",
       "    </tr>\n",
       "    <tr>\n",
       "      <th>min</th>\n",
       "      <td>9.621000e+03</td>\n",
       "      <td>9.609000e+03</td>\n",
       "      <td>9.668000e+03</td>\n",
       "      <td>1.028300e+04</td>\n",
       "      <td>1.044400e+04</td>\n",
       "      <td>1.069400e+04</td>\n",
       "      <td>1.120400e+04</td>\n",
       "      <td>1.131200e+04</td>\n",
       "      <td>1.139600e+04</td>\n",
       "    </tr>\n",
       "    <tr>\n",
       "      <th>25%</th>\n",
       "      <td>6.252495e+05</td>\n",
       "      <td>6.425825e+05</td>\n",
       "      <td>6.631015e+05</td>\n",
       "      <td>7.210558e+05</td>\n",
       "      <td>7.268502e+05</td>\n",
       "      <td>7.335218e+05</td>\n",
       "      <td>8.088315e+05</td>\n",
       "      <td>8.157380e+05</td>\n",
       "      <td>8.233942e+05</td>\n",
       "    </tr>\n",
       "    <tr>\n",
       "      <th>50%</th>\n",
       "      <td>5.175659e+06</td>\n",
       "      <td>5.267269e+06</td>\n",
       "      <td>5.352080e+06</td>\n",
       "      <td>5.893246e+06</td>\n",
       "      <td>5.896596e+06</td>\n",
       "      <td>5.995436e+06</td>\n",
       "      <td>6.719538e+06</td>\n",
       "      <td>6.564773e+06</td>\n",
       "      <td>6.567063e+06</td>\n",
       "    </tr>\n",
       "    <tr>\n",
       "      <th>75%</th>\n",
       "      <td>1.716950e+07</td>\n",
       "      <td>1.764196e+07</td>\n",
       "      <td>1.812237e+07</td>\n",
       "      <td>2.214575e+07</td>\n",
       "      <td>2.245686e+07</td>\n",
       "      <td>2.226016e+07</td>\n",
       "      <td>2.590028e+07</td>\n",
       "      <td>2.617334e+07</td>\n",
       "      <td>2.706177e+07</td>\n",
       "    </tr>\n",
       "    <tr>\n",
       "      <th>max</th>\n",
       "      <td>6.226487e+09</td>\n",
       "      <td>6.308285e+09</td>\n",
       "      <td>6.389593e+09</td>\n",
       "      <td>7.053989e+09</td>\n",
       "      <td>7.141431e+09</td>\n",
       "      <td>7.229458e+09</td>\n",
       "      <td>7.888964e+09</td>\n",
       "      <td>7.951595e+09</td>\n",
       "      <td>8.024997e+09</td>\n",
       "    </tr>\n",
       "  </tbody>\n",
       "</table>\n",
       "</div>"
      ],
      "text/plain": [
       "               2001          2002          2003          2011          2012  \\\n",
       "count  2.180000e+02  2.180000e+02  2.180000e+02  2.180000e+02  2.180000e+02   \n",
       "mean   5.702126e+07  5.777115e+07  5.851666e+07  6.460916e+07  6.541101e+07   \n",
       "std    4.357249e+08  4.413970e+08  4.470272e+08  4.927859e+08  4.988148e+08   \n",
       "min    9.621000e+03  9.609000e+03  9.668000e+03  1.028300e+04  1.044400e+04   \n",
       "25%    6.252495e+05  6.425825e+05  6.631015e+05  7.210558e+05  7.268502e+05   \n",
       "50%    5.175659e+06  5.267269e+06  5.352080e+06  5.893246e+06  5.896596e+06   \n",
       "75%    1.716950e+07  1.764196e+07  1.812237e+07  2.214575e+07  2.245686e+07   \n",
       "max    6.226487e+09  6.308285e+09  6.389593e+09  7.053989e+09  7.141431e+09   \n",
       "\n",
       "               2013          2021          2022          2023  \n",
       "count  2.180000e+02  2.180000e+02  2.180000e+02  2.180000e+02  \n",
       "mean   6.621822e+07  7.226807e+07  7.284406e+07  7.351661e+07  \n",
       "std    5.048778e+08  5.500182e+08  5.542406e+08  5.591759e+08  \n",
       "min    1.069400e+04  1.120400e+04  1.131200e+04  1.139600e+04  \n",
       "25%    7.335218e+05  8.088315e+05  8.157380e+05  8.233942e+05  \n",
       "50%    5.995436e+06  6.719538e+06  6.564773e+06  6.567063e+06  \n",
       "75%    2.226016e+07  2.590028e+07  2.617334e+07  2.706177e+07  \n",
       "max    7.229458e+09  7.888964e+09  7.951595e+09  8.024997e+09  "
      ]
     },
     "execution_count": 93,
     "metadata": {},
     "output_type": "execute_result"
    }
   ],
   "source": [
    "df.describe()"
   ]
  },
  {
   "cell_type": "code",
   "execution_count": 94,
   "metadata": {},
   "outputs": [
    {
     "name": "stdout",
     "output_type": "stream",
     "text": [
      "<class 'pandas.core.frame.DataFrame'>\n",
      "RangeIndex: 218 entries, 0 to 217\n",
      "Data columns (total 13 columns):\n",
      " #   Column        Non-Null Count  Dtype \n",
      "---  ------        --------------  ----- \n",
      " 0   Series Name   218 non-null    object\n",
      " 1   Series Code   218 non-null    object\n",
      " 2   Country Name  218 non-null    object\n",
      " 3   Country Code  218 non-null    object\n",
      " 4   2001          218 non-null    int64 \n",
      " 5   2002          218 non-null    int64 \n",
      " 6   2003          218 non-null    int64 \n",
      " 7   2011          218 non-null    int64 \n",
      " 8   2012          218 non-null    int64 \n",
      " 9   2013          218 non-null    int64 \n",
      " 10  2021          218 non-null    int64 \n",
      " 11  2022          218 non-null    int64 \n",
      " 12  2023          218 non-null    int64 \n",
      "dtypes: int64(9), object(4)\n",
      "memory usage: 22.3+ KB\n"
     ]
    }
   ],
   "source": [
    "df.info()"
   ]
  },
  {
   "cell_type": "code",
   "execution_count": null,
   "metadata": {},
   "outputs": [],
   "source": []
  }
 ],
 "metadata": {
  "kernelspec": {
   "display_name": "brushup_env",
   "language": "python",
   "name": "python3"
  },
  "language_info": {
   "codemirror_mode": {
    "name": "ipython",
    "version": 3
   },
   "file_extension": ".py",
   "mimetype": "text/x-python",
   "name": "python",
   "nbconvert_exporter": "python",
   "pygments_lexer": "ipython3",
   "version": "3.12.4"
  }
 },
 "nbformat": 4,
 "nbformat_minor": 2
}
