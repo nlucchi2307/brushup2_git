{
 "cells": [
  {
   "cell_type": "code",
   "execution_count": 4,
   "metadata": {},
   "outputs": [
    {
     "name": "stdout",
     "output_type": "stream",
     "text": [
      "/Users/noemilucchi/Documents/DSDM/brushup_files\n"
     ]
    }
   ],
   "source": [
    "import os\n",
    "import pandas as pd\n",
    "import regex as re\n",
    "import textwrap\n",
    "import numpy as np\n",
    "import missingno as msno\n",
    "import matplotlib.pyplot as plt\n",
    "cwd = os.getcwd()\n",
    "print(cwd)"
   ]
  },
  {
   "cell_type": "markdown",
   "metadata": {},
   "source": [
    "### 1. EDA on text data"
   ]
  },
  {
   "cell_type": "code",
   "execution_count": 6,
   "metadata": {},
   "outputs": [
    {
     "name": "stdout",
     "output_type": "stream",
     "text": [
      "(42, 3)\n"
     ]
    },
    {
     "data": {
      "text/html": [
       "<div>\n",
       "<style scoped>\n",
       "    .dataframe tbody tr th:only-of-type {\n",
       "        vertical-align: middle;\n",
       "    }\n",
       "\n",
       "    .dataframe tbody tr th {\n",
       "        vertical-align: top;\n",
       "    }\n",
       "\n",
       "    .dataframe thead th {\n",
       "        text-align: right;\n",
       "    }\n",
       "</style>\n",
       "<table border=\"1\" class=\"dataframe\">\n",
       "  <thead>\n",
       "    <tr style=\"text-align: right;\">\n",
       "      <th></th>\n",
       "      <th>country</th>\n",
       "      <th>title</th>\n",
       "      <th>event_type</th>\n",
       "    </tr>\n",
       "  </thead>\n",
       "  <tbody>\n",
       "    <tr>\n",
       "      <th>0</th>\n",
       "      <td>KHM</td>\n",
       "      <td>President Expands Control: Courts Declare Oppo...</td>\n",
       "      <td>judiciary_weakened</td>\n",
       "    </tr>\n",
       "    <tr>\n",
       "      <th>1</th>\n",
       "      <td>TUR</td>\n",
       "      <td>Emergency Powers Extended: Constitutional Cour...</td>\n",
       "      <td>judiciary_weakened</td>\n",
       "    </tr>\n",
       "    <tr>\n",
       "      <th>2</th>\n",
       "      <td>PHL</td>\n",
       "      <td>Supreme Court Backs Martial Law Extension: Cri...</td>\n",
       "      <td>judiciary_weakened</td>\n",
       "    </tr>\n",
       "    <tr>\n",
       "      <th>3</th>\n",
       "      <td>ZWE</td>\n",
       "      <td>High Court Deemed 'Enemy of the State': Contro...</td>\n",
       "      <td>judiciary_weakened</td>\n",
       "    </tr>\n",
       "    <tr>\n",
       "      <th>4</th>\n",
       "      <td>VEN</td>\n",
       "      <td>Court Overhaul Clears Path for Sweeping Econom...</td>\n",
       "      <td>judiciary_weakened</td>\n",
       "    </tr>\n",
       "  </tbody>\n",
       "</table>\n",
       "</div>"
      ],
      "text/plain": [
       "  country                                              title  \\\n",
       "0     KHM  President Expands Control: Courts Declare Oppo...   \n",
       "1     TUR  Emergency Powers Extended: Constitutional Cour...   \n",
       "2     PHL  Supreme Court Backs Martial Law Extension: Cri...   \n",
       "3     ZWE  High Court Deemed 'Enemy of the State': Contro...   \n",
       "4     VEN  Court Overhaul Clears Path for Sweeping Econom...   \n",
       "\n",
       "           event_type  \n",
       "0  judiciary_weakened  \n",
       "1  judiciary_weakened  \n",
       "2  judiciary_weakened  \n",
       "3  judiciary_weakened  \n",
       "4  judiciary_weakened  "
      ]
     },
     "execution_count": 6,
     "metadata": {},
     "output_type": "execute_result"
    }
   ],
   "source": [
    "df_text = pd.read_csv(cwd + '/data/text_data.csv', delimiter=';')\n",
    "print(df_text.shape)\n",
    "df_text.head()"
   ]
  },
  {
   "cell_type": "code",
   "execution_count": 7,
   "metadata": {},
   "outputs": [
    {
     "name": "stdout",
     "output_type": "stream",
     "text": [
      "country isocode: KHM\n",
      "Title: President Expands Control: Courts Declare Opposition Party Illegal\n",
      "\n",
      "--------------------------------------------------------------------------------\n",
      "country isocode: TUR\n",
      "Title: Emergency Powers Extended: Constitutional Court Backs Controversial Government Moves\n",
      "\n",
      "--------------------------------------------------------------------------------\n",
      "country isocode: PHL\n",
      "Title: Supreme Court Backs Martial Law Extension: Critics Fear Weakening of Checks and Balances\n",
      "\n",
      "--------------------------------------------------------------------------------\n",
      "country isocode: ZWE\n",
      "Title: High Court Deemed 'Enemy of the State': Controversial Overhaul of Supreme Court\n",
      "\n",
      "--------------------------------------------------------------------------------\n",
      "country isocode: VEN\n",
      "Title: Court Overhaul Clears Path for Sweeping Economic Reforms\n",
      "\n",
      "--------------------------------------------------------------------------------\n",
      "country isocode: VEN\n",
      "Title: Judiciary Under Fire: Judges Resign as Government Replaces Supreme Court Members\n",
      "\n",
      "--------------------------------------------------------------------------------\n",
      "country isocode: RUS\n",
      "Title: Predident Reshapes Judiciary: Dismissals and Reappointments Raise Eyebrows Among Legal Experts\n",
      "\n",
      "--------------------------------------------------------------------------------\n",
      "country isocode: RUS\n",
      "Title: Judicial Overhaul Sparks Fears of Authoritarianism: Supreme Court Realigned\n",
      "\n",
      "--------------------------------------------------------------------------------\n",
      "country isocode: KHM\n",
      "Title: Judiciary Purge Continues: Government Installs Loyal Judges as Crackdown Deepens\n",
      "\n",
      "--------------------------------------------------------------------------------\n",
      "country isocode: HUN\n",
      "Title: President Expands Control Over Judiciary: New Law Alters Constitutional Court Powers\n",
      "\n",
      "--------------------------------------------------------------------------------\n",
      "country isocode: HUN\n",
      "Title: Judges Forced into Early Retirement: Critics Say Government is Targeting Independence\n",
      "\n",
      "--------------------------------------------------------------------------------\n",
      "country isocode: HUN\n",
      "Title: Constitutional Amendments Passed: Government Curtails Court’s Oversight Role\n",
      "\n",
      "--------------------------------------------------------------------------------\n",
      "country isocode: HUN\n",
      "Title: Opposition Decries Power Grab: Parliament Weakens Judicial Review\n",
      "\n",
      "--------------------------------------------------------------------------------\n",
      "country isocode: HUN\n",
      "Title: New Chief Justice Appointed: Allies of President Fill Vacancies in Constitutional Court\n",
      "\n",
      "--------------------------------------------------------------------------------\n",
      "country isocode: TUR\n",
      "Title: President Purges Courts: Thousands of Judges and Prosecutors Dismissed\n",
      "\n",
      "--------------------------------------------------------------------------------\n",
      "country isocode: TUR\n",
      "Title: Constitutional Court Reconfigured: Executive Gains Power Over Appointments\n",
      "\n",
      "--------------------------------------------------------------------------------\n",
      "country isocode: TUR\n",
      "Title: New Decree Restricts Judicial Independence: Critics Warn of Increasing Executive Overreach\n",
      "\n",
      "--------------------------------------------------------------------------------\n",
      "country isocode: TUR\n",
      "Title: Judicial Loyalty Oaths Introduced: President Tightens Grip Over Judiciary Amid Crackdown\n",
      "\n",
      "--------------------------------------------------------------------------------\n",
      "country isocode: POL\n",
      "Title: Government Pushes Through Controversial Judicial Reforms: Countries Express Concern\n",
      "\n",
      "--------------------------------------------------------------------------------\n",
      "country isocode: POL\n",
      "Title: Constitutional Tribunal Crisis: Ruling Party Replaces Judges, Limits Court's Role\n",
      "\n",
      "--------------------------------------------------------------------------------\n",
      "country isocode: POL\n",
      "Title: Supreme Court Judges Forced to Retire: President Signs Controversial Law\n",
      "\n",
      "--------------------------------------------------------------------------------\n",
      "country isocode: POL\n",
      "Title: Judicial Independence at Risk: Legal Experts Warn of Diminishing Checks and Balances\n",
      "\n",
      "--------------------------------------------------------------------------------\n",
      "country isocode: POL\n",
      "Title: New Court Appointments Spark Protests: Ruling Party Fills Tribunal with Loyalists\n",
      "\n",
      "--------------------------------------------------------------------------------\n",
      "country isocode: USA\n",
      "Title: Executive Criticism of Judiciary Intensifies: President Suggests Term Limits for Supreme Court Justices\n",
      "\n",
      "--------------------------------------------------------------------------------\n",
      "country isocode: USA\n",
      "Title: Controversial Appointments Raise Concerns: Supreme Court Nominee Labeled ‘Partisan Pick'\n",
      "\n",
      "--------------------------------------------------------------------------------\n",
      "country isocode: USA\n",
      "Title: New Legal Doctrine Proposed: Limits on Judicial Review Powers Spark Constitutional Debate\n",
      "\n",
      "--------------------------------------------------------------------------------\n",
      "country isocode: IND\n",
      "Title: Supreme Court Under Pressure: Critics Warn of Erosion of Judicial Independence\n",
      "\n",
      "--------------------------------------------------------------------------------\n",
      "country isocode: BRA\n",
      "Title: Supreme Court Judges Warned: Congress Debates Limiting Court’s Powers\n",
      "\n",
      "--------------------------------------------------------------------------------\n",
      "country isocode: PHL\n",
      "Title: Constitutional Court Realigned: President Appoints Close Allies to Key Positions\n",
      "\n",
      "--------------------------------------------------------------------------------\n",
      "country isocode: PHL\n",
      "Title: Judges Ordered to Comply: Executive Demands Loyalty From Judiciary\n",
      "\n",
      "--------------------------------------------------------------------------------\n",
      "country isocode: PHL\n",
      "Title: Chief Justice’s Impeachment Sparks Outcry: Legal Community Warns of Judicial Erosion\n",
      "\n",
      "--------------------------------------------------------------------------------\n",
      "country isocode: MEX\n",
      "Title: Protesters against judiciary overhaul urge president o ‘respect democracy’\n",
      "\n",
      "--------------------------------------------------------------------------------\n",
      "country isocode: ZWE\n",
      "Title: President Tightens Grip on Judiciary: Chief Justice Forced to Resign\n",
      "\n",
      "--------------------------------------------------------------------------------\n",
      "country isocode: USA\n",
      "Title: Judicial Independence Questioned: Executive Calls for Investigation Into ‘Biased’ Judges\n",
      "\n",
      "--------------------------------------------------------------------------------\n",
      "country isocode: USA\n",
      "Title: Senate Moves Quickly to Confirm Judges: Record Number of Appointments Under Current Administration\n",
      "\n",
      "--------------------------------------------------------------------------------\n",
      "country isocode: IND\n",
      "Title: Government Faces Backlash Over Judicial Appointments: Chief Justice Demands Transparency\n",
      "\n",
      "--------------------------------------------------------------------------------\n",
      "country isocode: IND\n",
      "Title: New Chief Justice Appointed Amid Controversy: Executive Accused of Undue Influence\n",
      "\n",
      "--------------------------------------------------------------------------------\n",
      "country isocode: IND\n",
      "Title: Judges Protest Interference: Historic Public Statement by Four Senior Judges Sparks Debate\n",
      "\n",
      "--------------------------------------------------------------------------------\n",
      "country isocode: BRA\n",
      "Title: President Criticizes Supreme Court: Calls for Changes in Judicial Appointments Process\n",
      "\n",
      "--------------------------------------------------------------------------------\n",
      "country isocode: BRA\n",
      "Title: Constitutional Court Judges Face Threats: Government Allies Demand Reforms\n",
      "\n",
      "--------------------------------------------------------------------------------\n",
      "country isocode: BRA\n",
      "Title: New Chief Justice Appointed Amid Tensions: President Ally Takes Helm of Supreme Court\n",
      "\n",
      "--------------------------------------------------------------------------------\n",
      "country isocode: PHL\n",
      "Title: Government Ousts Chief Justice: Supreme Court Under Siege\n",
      "\n",
      "--------------------------------------------------------------------------------\n"
     ]
    }
   ],
   "source": [
    "# Function to wrap text of a specific cell\n",
    "def wrap_text(text, width=50):\n",
    "    \"\"\"Wrap text to the specified width.\"\"\"\n",
    "    return textwrap.fill(text, width)\n",
    "\n",
    "# Maximum width for line breaks\n",
    "max_width = 130\n",
    "\n",
    "# Iterate over each row and print the title and body with line breaks\n",
    "for index, row in df_text.iterrows():\n",
    "    wrapped_title = wrap_text(row['title'], max_width)\n",
    "    \n",
    "    print('country isocode:', row['country'])\n",
    "    print(f\"Title: {wrapped_title}\\n\")\n",
    "    print(\"-\" * 80) "
   ]
  },
  {
   "cell_type": "code",
   "execution_count": 10,
   "metadata": {},
   "outputs": [
    {
     "name": "stderr",
     "output_type": "stream",
     "text": [
      "/var/folders/26/4f5n05451_j4j0z0qd39gqzr0000gn/T/ipykernel_6926/1648143037.py:3: UserWarning: This pattern is interpreted as a regular expression, and has match groups. To actually get the groups, use str.extract.\n",
      "  df_text['contains_judge'] = df_text['title'].str.contains(r'\\b(Judge|Judges)\\b', regex=True)\n"
     ]
    },
    {
     "data": {
      "text/html": [
       "<div>\n",
       "<style scoped>\n",
       "    .dataframe tbody tr th:only-of-type {\n",
       "        vertical-align: middle;\n",
       "    }\n",
       "\n",
       "    .dataframe tbody tr th {\n",
       "        vertical-align: top;\n",
       "    }\n",
       "\n",
       "    .dataframe thead th {\n",
       "        text-align: right;\n",
       "    }\n",
       "</style>\n",
       "<table border=\"1\" class=\"dataframe\">\n",
       "  <thead>\n",
       "    <tr style=\"text-align: right;\">\n",
       "      <th></th>\n",
       "      <th>country</th>\n",
       "      <th>title</th>\n",
       "      <th>event_type</th>\n",
       "      <th>keywords</th>\n",
       "      <th>contains_judge</th>\n",
       "      <th>bigrams</th>\n",
       "      <th>word_count_1</th>\n",
       "      <th>word_count_2</th>\n",
       "    </tr>\n",
       "  </thead>\n",
       "  <tbody>\n",
       "    <tr>\n",
       "      <th>0</th>\n",
       "      <td>KHM</td>\n",
       "      <td>President Expands Control: Courts Declare Oppo...</td>\n",
       "      <td>judiciary_weakened</td>\n",
       "      <td>[President, Expands, Control, Courts, Declare,...</td>\n",
       "      <td>False</td>\n",
       "      <td>[President Expands, Courts Declare, Opposition...</td>\n",
       "      <td>8</td>\n",
       "      <td>8</td>\n",
       "    </tr>\n",
       "    <tr>\n",
       "      <th>1</th>\n",
       "      <td>TUR</td>\n",
       "      <td>Emergency Powers Extended: Constitutional Cour...</td>\n",
       "      <td>judiciary_weakened</td>\n",
       "      <td>[Emergency, Powers, Extended, Constitutional, ...</td>\n",
       "      <td>False</td>\n",
       "      <td>[Emergency Powers, Constitutional Court, Backs...</td>\n",
       "      <td>9</td>\n",
       "      <td>9</td>\n",
       "    </tr>\n",
       "    <tr>\n",
       "      <th>2</th>\n",
       "      <td>PHL</td>\n",
       "      <td>Supreme Court Backs Martial Law Extension: Cri...</td>\n",
       "      <td>judiciary_weakened</td>\n",
       "      <td>[Supreme, Court, Backs, Martial, Law, Extensio...</td>\n",
       "      <td>False</td>\n",
       "      <td>[Supreme Court, Backs Martial, Law Extension, ...</td>\n",
       "      <td>13</td>\n",
       "      <td>13</td>\n",
       "    </tr>\n",
       "  </tbody>\n",
       "</table>\n",
       "</div>"
      ],
      "text/plain": [
       "  country                                              title  \\\n",
       "0     KHM  President Expands Control: Courts Declare Oppo...   \n",
       "1     TUR  Emergency Powers Extended: Constitutional Cour...   \n",
       "2     PHL  Supreme Court Backs Martial Law Extension: Cri...   \n",
       "\n",
       "           event_type                                           keywords  \\\n",
       "0  judiciary_weakened  [President, Expands, Control, Courts, Declare,...   \n",
       "1  judiciary_weakened  [Emergency, Powers, Extended, Constitutional, ...   \n",
       "2  judiciary_weakened  [Supreme, Court, Backs, Martial, Law, Extensio...   \n",
       "\n",
       "   contains_judge                                            bigrams  \\\n",
       "0           False  [President Expands, Courts Declare, Opposition...   \n",
       "1           False  [Emergency Powers, Constitutional Court, Backs...   \n",
       "2           False  [Supreme Court, Backs Martial, Law Extension, ...   \n",
       "\n",
       "   word_count_1  word_count_2  \n",
       "0             8             8  \n",
       "1             9             9  \n",
       "2            13            13  "
      ]
     },
     "execution_count": 10,
     "metadata": {},
     "output_type": "execute_result"
    }
   ],
   "source": [
    "df_text['keywords'] = df_text['title'].str.findall(r'\\b[A-Z][a-z]+\\b')\n",
    "\n",
    "df_text['contains_judge'] = df_text['title'].str.contains(r'\\b(Judge|Judges)\\b', regex=True)\n",
    "\n",
    "df_text['bigrams'] = df_text['title'].str.findall(r'\\b\\w+\\b \\b\\w+\\b')\n",
    "\n",
    "df_text['word_count_1'] = df_text['title'].str.count(r'\\b\\w+\\b')\n",
    "\n",
    "df_text['word_count_2'] = df_text['title'].str.split().str.len()\n",
    "\n",
    "df_text.head(3)\n"
   ]
  },
  {
   "cell_type": "code",
   "execution_count": 9,
   "metadata": {},
   "outputs": [
    {
     "name": "stdout",
     "output_type": "stream",
     "text": [
      "['Hello,', 'how', 'are', 'you?', \"I'm\", 'ok', 'thanks.', 'How', 'are', 'you?']\n"
     ]
    },
    {
     "data": {
      "text/plain": [
       "['Hello', 'How']"
      ]
     },
     "execution_count": 9,
     "metadata": {},
     "output_type": "execute_result"
    }
   ],
   "source": [
    "my_sentence = \"Hello, how are you? I'm ok thanks. How are you?\"\n",
    "\n",
    "list_of_words = my_sentence.split()\n",
    "print(list_of_words)\n",
    "re.findall(r'\\b[A-Z][a-z]+\\b', my_sentence)"
   ]
  },
  {
   "cell_type": "markdown",
   "metadata": {},
   "source": [
    "### 2. Combining data sets"
   ]
  },
  {
   "cell_type": "markdown",
   "metadata": {},
   "source": [
    "Key Differences:\n",
    "1. Merge combines two DataFrames based on one or more common columns.\n",
    "2. Concatenate appends DataFrames along a particular axis.\n",
    "3. Join combines DataFrames based on their index values.\n"
   ]
  },
  {
   "cell_type": "code",
   "execution_count": 12,
   "metadata": {},
   "outputs": [],
   "source": [
    "# example DataFrames\n",
    "df1 = pd.DataFrame({\n",
    "    'employee_id': [101, 102, 103],\n",
    "    'name': ['Alice', 'Bob', 'Charlie']\n",
    "})\n",
    "\n",
    "df2 = pd.DataFrame({\n",
    "    'employee_id': [101, 103, 104],\n",
    "    'department': ['HR', 'Engineering', 'Marketing']\n",
    "})\n",
    "\n",
    "df3 = pd.DataFrame({\n",
    "    'name': ['David', 'Eva'],\n",
    "    'department': ['Finance', 'HR']\n",
    "})\n",
    "\n",
    "df4 = pd.DataFrame({\n",
    "    'salary': [70000, 80000, 60000]\n",
    "})\n",
    "\n",
    "# two with the same index\n",
    "df5 = pd.DataFrame({\n",
    "    'age': [25, 30, 22],\n",
    "}, index=['Alice', 'Bob', 'Charlie'])\n",
    "\n",
    "df6 = pd.DataFrame({\n",
    "    'salary': [50000, 60000, 55000]\n",
    "}, index=['Alice', 'Bob', 'Charlie'])"
   ]
  },
  {
   "cell_type": "markdown",
   "metadata": {},
   "source": [
    "#### Merging"
   ]
  },
  {
   "cell_type": "markdown",
   "metadata": {},
   "source": [
    "Experiment with the difference the \"how\" parameter makes:\n",
    "\n",
    "Your options: how{‘left’, ‘right’, ‘outer’, ‘inner’, ‘cross’}, default ‘inner’\n",
    "\n",
    "https://pandas.pydata.org/docs/reference/api/pandas.DataFrame.merge.html"
   ]
  },
  {
   "cell_type": "code",
   "execution_count": 13,
   "metadata": {},
   "outputs": [
    {
     "name": "stdout",
     "output_type": "stream",
     "text": [
      "   employee_id     name\n",
      "0          101    Alice\n",
      "1          102      Bob\n",
      "2          103  Charlie\n",
      "   employee_id   department\n",
      "0          101           HR\n",
      "1          103  Engineering\n",
      "2          104    Marketing\n"
     ]
    }
   ],
   "source": [
    "print(df1)\n",
    "print(df2)"
   ]
  },
  {
   "cell_type": "code",
   "execution_count": 14,
   "metadata": {},
   "outputs": [
    {
     "name": "stdout",
     "output_type": "stream",
     "text": [
      "Merged DataFrame:\n"
     ]
    },
    {
     "data": {
      "text/html": [
       "<div>\n",
       "<style scoped>\n",
       "    .dataframe tbody tr th:only-of-type {\n",
       "        vertical-align: middle;\n",
       "    }\n",
       "\n",
       "    .dataframe tbody tr th {\n",
       "        vertical-align: top;\n",
       "    }\n",
       "\n",
       "    .dataframe thead th {\n",
       "        text-align: right;\n",
       "    }\n",
       "</style>\n",
       "<table border=\"1\" class=\"dataframe\">\n",
       "  <thead>\n",
       "    <tr style=\"text-align: right;\">\n",
       "      <th></th>\n",
       "      <th>employee_id</th>\n",
       "      <th>name</th>\n",
       "      <th>department</th>\n",
       "    </tr>\n",
       "  </thead>\n",
       "  <tbody>\n",
       "    <tr>\n",
       "      <th>0</th>\n",
       "      <td>101</td>\n",
       "      <td>Alice</td>\n",
       "      <td>HR</td>\n",
       "    </tr>\n",
       "    <tr>\n",
       "      <th>1</th>\n",
       "      <td>103</td>\n",
       "      <td>Charlie</td>\n",
       "      <td>Engineering</td>\n",
       "    </tr>\n",
       "  </tbody>\n",
       "</table>\n",
       "</div>"
      ],
      "text/plain": [
       "   employee_id     name   department\n",
       "0          101    Alice           HR\n",
       "1          103  Charlie  Engineering"
      ]
     },
     "execution_count": 14,
     "metadata": {},
     "output_type": "execute_result"
    }
   ],
   "source": [
    "# Merge on 'employee_id'\n",
    "merged_df = pd.merge(df1, df2, on='employee_id', how = 'inner')\n",
    "print(\"Merged DataFrame:\")\n",
    "merged_df"
   ]
  },
  {
   "cell_type": "markdown",
   "metadata": {},
   "source": [
    "#### Concatenating"
   ]
  },
  {
   "cell_type": "code",
   "execution_count": 15,
   "metadata": {},
   "outputs": [
    {
     "name": "stdout",
     "output_type": "stream",
     "text": [
      "   employee_id     name\n",
      "0          101    Alice\n",
      "1          102      Bob\n",
      "2          103  Charlie\n",
      "    name department\n",
      "0  David    Finance\n",
      "1    Eva         HR\n"
     ]
    }
   ],
   "source": [
    "print(df1)\n",
    "print(df3)"
   ]
  },
  {
   "cell_type": "code",
   "execution_count": 16,
   "metadata": {},
   "outputs": [
    {
     "name": "stdout",
     "output_type": "stream",
     "text": [
      "\n",
      "Concatenated DataFrame (Axis 0 - Rows):\n"
     ]
    },
    {
     "data": {
      "text/html": [
       "<div>\n",
       "<style scoped>\n",
       "    .dataframe tbody tr th:only-of-type {\n",
       "        vertical-align: middle;\n",
       "    }\n",
       "\n",
       "    .dataframe tbody tr th {\n",
       "        vertical-align: top;\n",
       "    }\n",
       "\n",
       "    .dataframe thead th {\n",
       "        text-align: right;\n",
       "    }\n",
       "</style>\n",
       "<table border=\"1\" class=\"dataframe\">\n",
       "  <thead>\n",
       "    <tr style=\"text-align: right;\">\n",
       "      <th></th>\n",
       "      <th>employee_id</th>\n",
       "      <th>name</th>\n",
       "      <th>department</th>\n",
       "    </tr>\n",
       "  </thead>\n",
       "  <tbody>\n",
       "    <tr>\n",
       "      <th>0</th>\n",
       "      <td>101.0</td>\n",
       "      <td>Alice</td>\n",
       "      <td>NaN</td>\n",
       "    </tr>\n",
       "    <tr>\n",
       "      <th>1</th>\n",
       "      <td>102.0</td>\n",
       "      <td>Bob</td>\n",
       "      <td>NaN</td>\n",
       "    </tr>\n",
       "    <tr>\n",
       "      <th>2</th>\n",
       "      <td>103.0</td>\n",
       "      <td>Charlie</td>\n",
       "      <td>NaN</td>\n",
       "    </tr>\n",
       "    <tr>\n",
       "      <th>3</th>\n",
       "      <td>NaN</td>\n",
       "      <td>David</td>\n",
       "      <td>Finance</td>\n",
       "    </tr>\n",
       "    <tr>\n",
       "      <th>4</th>\n",
       "      <td>NaN</td>\n",
       "      <td>Eva</td>\n",
       "      <td>HR</td>\n",
       "    </tr>\n",
       "  </tbody>\n",
       "</table>\n",
       "</div>"
      ],
      "text/plain": [
       "   employee_id     name department\n",
       "0        101.0    Alice        NaN\n",
       "1        102.0      Bob        NaN\n",
       "2        103.0  Charlie        NaN\n",
       "3          NaN    David    Finance\n",
       "4          NaN      Eva         HR"
      ]
     },
     "execution_count": 16,
     "metadata": {},
     "output_type": "execute_result"
    }
   ],
   "source": [
    "# Concatenate two DataFrames along rows (axis=0)\n",
    "concatenated_df = pd.concat([df1, df3], ignore_index=True)\n",
    "print(\"\\nConcatenated DataFrame (Axis 0 - Rows):\")\n",
    "concatenated_df"
   ]
  },
  {
   "cell_type": "code",
   "execution_count": 17,
   "metadata": {},
   "outputs": [
    {
     "name": "stdout",
     "output_type": "stream",
     "text": [
      "   employee_id     name\n",
      "0          101    Alice\n",
      "1          102      Bob\n",
      "2          103  Charlie\n",
      "   salary\n",
      "0   70000\n",
      "1   80000\n",
      "2   60000\n"
     ]
    }
   ],
   "source": [
    "print(df1)\n",
    "print(df4)"
   ]
  },
  {
   "cell_type": "code",
   "execution_count": 18,
   "metadata": {},
   "outputs": [
    {
     "name": "stdout",
     "output_type": "stream",
     "text": [
      "\n",
      "Concatenated DataFrame (Axis 1 - Columns):\n"
     ]
    },
    {
     "data": {
      "text/html": [
       "<div>\n",
       "<style scoped>\n",
       "    .dataframe tbody tr th:only-of-type {\n",
       "        vertical-align: middle;\n",
       "    }\n",
       "\n",
       "    .dataframe tbody tr th {\n",
       "        vertical-align: top;\n",
       "    }\n",
       "\n",
       "    .dataframe thead th {\n",
       "        text-align: right;\n",
       "    }\n",
       "</style>\n",
       "<table border=\"1\" class=\"dataframe\">\n",
       "  <thead>\n",
       "    <tr style=\"text-align: right;\">\n",
       "      <th></th>\n",
       "      <th>employee_id</th>\n",
       "      <th>name</th>\n",
       "      <th>salary</th>\n",
       "    </tr>\n",
       "  </thead>\n",
       "  <tbody>\n",
       "    <tr>\n",
       "      <th>0</th>\n",
       "      <td>101</td>\n",
       "      <td>Alice</td>\n",
       "      <td>70000</td>\n",
       "    </tr>\n",
       "    <tr>\n",
       "      <th>1</th>\n",
       "      <td>102</td>\n",
       "      <td>Bob</td>\n",
       "      <td>80000</td>\n",
       "    </tr>\n",
       "    <tr>\n",
       "      <th>2</th>\n",
       "      <td>103</td>\n",
       "      <td>Charlie</td>\n",
       "      <td>60000</td>\n",
       "    </tr>\n",
       "  </tbody>\n",
       "</table>\n",
       "</div>"
      ],
      "text/plain": [
       "   employee_id     name  salary\n",
       "0          101    Alice   70000\n",
       "1          102      Bob   80000\n",
       "2          103  Charlie   60000"
      ]
     },
     "execution_count": 18,
     "metadata": {},
     "output_type": "execute_result"
    }
   ],
   "source": [
    "concatenated_columns_df = pd.concat([df1, df4], axis=1)\n",
    "print(\"\\nConcatenated DataFrame (Axis 1 - Columns):\")\n",
    "concatenated_columns_df"
   ]
  },
  {
   "cell_type": "markdown",
   "metadata": {},
   "source": [
    "#### Joining"
   ]
  },
  {
   "cell_type": "code",
   "execution_count": 19,
   "metadata": {},
   "outputs": [
    {
     "name": "stdout",
     "output_type": "stream",
     "text": [
      "         age\n",
      "Alice     25\n",
      "Bob       30\n",
      "Charlie   22\n",
      "         salary\n",
      "Alice     50000\n",
      "Bob       60000\n",
      "Charlie   55000\n"
     ]
    }
   ],
   "source": [
    "print(df5)\n",
    "print(df6)"
   ]
  },
  {
   "cell_type": "code",
   "execution_count": 20,
   "metadata": {},
   "outputs": [
    {
     "name": "stdout",
     "output_type": "stream",
     "text": [
      "Joined DataFrame (Using Index):\n"
     ]
    },
    {
     "data": {
      "text/html": [
       "<div>\n",
       "<style scoped>\n",
       "    .dataframe tbody tr th:only-of-type {\n",
       "        vertical-align: middle;\n",
       "    }\n",
       "\n",
       "    .dataframe tbody tr th {\n",
       "        vertical-align: top;\n",
       "    }\n",
       "\n",
       "    .dataframe thead th {\n",
       "        text-align: right;\n",
       "    }\n",
       "</style>\n",
       "<table border=\"1\" class=\"dataframe\">\n",
       "  <thead>\n",
       "    <tr style=\"text-align: right;\">\n",
       "      <th></th>\n",
       "      <th>age</th>\n",
       "      <th>salary</th>\n",
       "    </tr>\n",
       "  </thead>\n",
       "  <tbody>\n",
       "    <tr>\n",
       "      <th>Alice</th>\n",
       "      <td>25</td>\n",
       "      <td>50000</td>\n",
       "    </tr>\n",
       "    <tr>\n",
       "      <th>Bob</th>\n",
       "      <td>30</td>\n",
       "      <td>60000</td>\n",
       "    </tr>\n",
       "    <tr>\n",
       "      <th>Charlie</th>\n",
       "      <td>22</td>\n",
       "      <td>55000</td>\n",
       "    </tr>\n",
       "  </tbody>\n",
       "</table>\n",
       "</div>"
      ],
      "text/plain": [
       "         age  salary\n",
       "Alice     25   50000\n",
       "Bob       30   60000\n",
       "Charlie   22   55000"
      ]
     },
     "execution_count": 20,
     "metadata": {},
     "output_type": "execute_result"
    }
   ],
   "source": [
    "# Join the two DataFrames\n",
    "joined_df = df5.join(df6)\n",
    "print(\"Joined DataFrame (Using Index):\")\n",
    "joined_df"
   ]
  },
  {
   "cell_type": "markdown",
   "metadata": {},
   "source": [
    "### 3. More on WB data"
   ]
  },
  {
   "cell_type": "markdown",
   "metadata": {},
   "source": [
    "#### 3.0 Data"
   ]
  },
  {
   "cell_type": "code",
   "execution_count": 9,
   "metadata": {},
   "outputs": [
    {
     "name": "stdout",
     "output_type": "stream",
     "text": [
      "Index(['Series Name', 'Series Code', 'Country Name', 'Country Code', '2001',\n",
      "       '2002', '2003', '2011', '2012', '2013', '2021', '2022', '2023'],\n",
      "      dtype='object')\n"
     ]
    }
   ],
   "source": [
    "import pandas as pd\n",
    "df_WB_more_data = pd.read_csv('./data/WB_more_data.csv', delimiter=',')\n",
    "print(df_WB_more_data.columns)"
   ]
  },
  {
   "cell_type": "code",
   "execution_count": 10,
   "metadata": {},
   "outputs": [
    {
     "data": {
      "text/plain": [
       "13"
      ]
     },
     "execution_count": 10,
     "metadata": {},
     "output_type": "execute_result"
    }
   ],
   "source": [
    "df_WB_more_data.columns\n",
    "len(df_WB_more_data.columns)\n",
    "# I get 1 as result, it means that the columns are not divided and so \n",
    "# that Python reads only one column that contains all the single columns \n",
    "# names inside. "
   ]
  },
  {
   "cell_type": "code",
   "execution_count": 11,
   "metadata": {},
   "outputs": [
    {
     "name": "stdout",
     "output_type": "stream",
     "text": [
      "['Population, total' 'Children out of school (% of primary school age)'\n",
      " 'Children out of school, primary'\n",
      " 'GNI per capita, Atlas method (current US$)'\n",
      " 'GNI, Atlas method (current US$)']\n",
      "217\n"
     ]
    },
    {
     "data": {
      "text/html": [
       "<div>\n",
       "<style scoped>\n",
       "    .dataframe tbody tr th:only-of-type {\n",
       "        vertical-align: middle;\n",
       "    }\n",
       "\n",
       "    .dataframe tbody tr th {\n",
       "        vertical-align: top;\n",
       "    }\n",
       "\n",
       "    .dataframe thead th {\n",
       "        text-align: right;\n",
       "    }\n",
       "</style>\n",
       "<table border=\"1\" class=\"dataframe\">\n",
       "  <thead>\n",
       "    <tr style=\"text-align: right;\">\n",
       "      <th></th>\n",
       "      <th>Series Name</th>\n",
       "      <th>Series Code</th>\n",
       "      <th>Country Name</th>\n",
       "      <th>Country Code</th>\n",
       "      <th>2001</th>\n",
       "      <th>2002</th>\n",
       "      <th>2003</th>\n",
       "      <th>2011</th>\n",
       "      <th>2012</th>\n",
       "      <th>2013</th>\n",
       "      <th>2021</th>\n",
       "      <th>2022</th>\n",
       "      <th>2023</th>\n",
       "    </tr>\n",
       "  </thead>\n",
       "  <tbody>\n",
       "    <tr>\n",
       "      <th>454</th>\n",
       "      <td>Children out of school, primary</td>\n",
       "      <td>SE.PRM.UNER</td>\n",
       "      <td>Benin</td>\n",
       "      <td>BEN</td>\n",
       "      <td>..</td>\n",
       "      <td>..</td>\n",
       "      <td>234732</td>\n",
       "      <td>76392</td>\n",
       "      <td>67338</td>\n",
       "      <td>64930</td>\n",
       "      <td>162954</td>\n",
       "      <td>114877</td>\n",
       "      <td>..</td>\n",
       "    </tr>\n",
       "    <tr>\n",
       "      <th>12</th>\n",
       "      <td>Population, total</td>\n",
       "      <td>SP.POP.TOTL</td>\n",
       "      <td>Azerbaijan</td>\n",
       "      <td>AZE</td>\n",
       "      <td>8111200</td>\n",
       "      <td>8171950</td>\n",
       "      <td>8234100</td>\n",
       "      <td>9173082</td>\n",
       "      <td>9295784</td>\n",
       "      <td>9416801</td>\n",
       "      <td>10137750</td>\n",
       "      <td>10141756</td>\n",
       "      <td>10112555</td>\n",
       "    </tr>\n",
       "    <tr>\n",
       "      <th>76</th>\n",
       "      <td>Population, total</td>\n",
       "      <td>SP.POP.TOTL</td>\n",
       "      <td>Greece</td>\n",
       "      <td>GRC</td>\n",
       "      <td>10862132</td>\n",
       "      <td>10902022</td>\n",
       "      <td>10928070</td>\n",
       "      <td>11104899</td>\n",
       "      <td>11045011</td>\n",
       "      <td>10965211</td>\n",
       "      <td>10569207</td>\n",
       "      <td>10426919</td>\n",
       "      <td>10361295</td>\n",
       "    </tr>\n",
       "  </tbody>\n",
       "</table>\n",
       "</div>"
      ],
      "text/plain": [
       "                         Series Name  Series Code Country Name Country Code  \\\n",
       "454  Children out of school, primary  SE.PRM.UNER        Benin          BEN   \n",
       "12                 Population, total  SP.POP.TOTL   Azerbaijan          AZE   \n",
       "76                 Population, total  SP.POP.TOTL       Greece          GRC   \n",
       "\n",
       "         2001      2002      2003      2011      2012      2013      2021  \\\n",
       "454        ..        ..    234732     76392     67338     64930    162954   \n",
       "12    8111200   8171950   8234100   9173082   9295784   9416801  10137750   \n",
       "76   10862132  10902022  10928070  11104899  11045011  10965211  10569207   \n",
       "\n",
       "         2022      2023  \n",
       "454    114877        ..  \n",
       "12   10141756  10112555  \n",
       "76   10426919  10361295  "
      ]
     },
     "execution_count": 11,
     "metadata": {},
     "output_type": "execute_result"
    }
   ],
   "source": [
    "# copy the data\n",
    "df_og = df_WB_more_data.copy()\n",
    "\n",
    "# check what series and countries are included\n",
    "print(df_og['Series Name'].unique())\n",
    "print(df_og['Country Name'].nunique())\n",
    "df_og.sample(3)"
   ]
  },
  {
   "cell_type": "code",
   "execution_count": null,
   "metadata": {},
   "outputs": [],
   "source": [
    "df_og.describe()"
   ]
  },
  {
   "cell_type": "markdown",
   "metadata": {},
   "source": [
    "#### 3.1 Melting and pivoting"
   ]
  },
  {
   "cell_type": "code",
   "execution_count": null,
   "metadata": {},
   "outputs": [],
   "source": [
    "# melt the data frame \n",
    "year_cols = ['2001', '2002', '2003', '2011', '2012', '2013', '2021', '2022', '2023']\n",
    "\n",
    "df_melted = pd.melt(df_og, id_vars=['Country Name', 'Country Code', 'Series Name'], value_vars= year_cols, var_name='year', value_name='any_name')\n",
    "\n",
    "df_melted.sample(5)\n"
   ]
  },
  {
   "cell_type": "code",
   "execution_count": null,
   "metadata": {},
   "outputs": [],
   "source": [
    "## Solution\n",
    "print(df_melted.shape)\n",
    "print(df_melted['Series Name'].value_counts())\n",
    "print(df_melted['year'].value_counts())\n",
    "\n",
    "print(217*9)\n",
    "print(217*5)"
   ]
  },
  {
   "cell_type": "code",
   "execution_count": null,
   "metadata": {},
   "outputs": [],
   "source": [
    "# pivot the data frame\n",
    "pivoted_df = df_melted.pivot(index=['Country Name', 'Country Code', 'year'], columns='Series Name', values='any_name').reset_index()\n",
    "print(pivoted_df.shape)\n",
    "pivoted_df.sample(4)"
   ]
  },
  {
   "cell_type": "markdown",
   "metadata": {},
   "source": [
    "#### 3.2 Renaming & missingness"
   ]
  },
  {
   "cell_type": "code",
   "execution_count": 11,
   "metadata": {},
   "outputs": [
    {
     "ename": "NameError",
     "evalue": "name 'pivoted_df' is not defined",
     "output_type": "error",
     "traceback": [
      "\u001b[0;31m---------------------------------------------------------------------------\u001b[0m",
      "\u001b[0;31mNameError\u001b[0m                                 Traceback (most recent call last)",
      "Cell \u001b[0;32mIn[11], line 1\u001b[0m\n\u001b[0;32m----> 1\u001b[0m df \u001b[38;5;241m=\u001b[39m \u001b[43mpivoted_df\u001b[49m\u001b[38;5;241m.\u001b[39mcopy()\n",
      "\u001b[0;31mNameError\u001b[0m: name 'pivoted_df' is not defined"
     ]
    }
   ],
   "source": [
    "df = pivoted_df.copy()"
   ]
  },
  {
   "cell_type": "code",
   "execution_count": null,
   "metadata": {},
   "outputs": [],
   "source": [
    "# use renaming dictionary\n",
    "rename_dict = {\n",
    "    'Country Code' : 'isocode',\n",
    "    '??' : '???',\n",
    "    \n",
    "}\n",
    "\n",
    "df.rename(columns=rename_dict, inplace=True)\n",
    "\n",
    "df.set_index('??', inplace= True)\n",
    "\n",
    "df"
   ]
  },
  {
   "cell_type": "code",
   "execution_count": null,
   "metadata": {},
   "outputs": [],
   "source": [
    "# round to two decimal places\n",
    "\n",
    "df['primary_out_school_pct'] = round(df['primary_out_school_pct'],2)\n",
    "df"
   ]
  },
  {
   "cell_type": "code",
   "execution_count": null,
   "metadata": {},
   "outputs": [],
   "source": [
    "# inspect the missingness\n",
    "msno.matrix(df)\n"
   ]
  },
  {
   "cell_type": "code",
   "execution_count": null,
   "metadata": {},
   "outputs": [],
   "source": [
    "# what is going on?\n",
    "print(df.loc['AFG']['primary_out_school_total'][0])"
   ]
  },
  {
   "cell_type": "code",
   "execution_count": null,
   "metadata": {},
   "outputs": [],
   "source": [
    "# let's fix it\n",
    "df.replace(???, np.nan, inplace=True)\n",
    "\n",
    "msno.matrix(df)"
   ]
  },
  {
   "cell_type": "code",
   "execution_count": null,
   "metadata": {},
   "outputs": [],
   "source": [
    "# only keep the rows that don't have missing values\n",
    "\n",
    "dropped = df.???()\n",
    "\n",
    "# what are we inspecting here?\n",
    "print(dropped.index.nunique())"
   ]
  },
  {
   "cell_type": "code",
   "execution_count": null,
   "metadata": {},
   "outputs": [],
   "source": [
    "# sets are useful for finding differences!\n",
    "diff_iso = set(df.country.unique()) - set(dropped.country.unique())\n",
    "len(diff_iso)\n",
    "print(diff_iso)"
   ]
  },
  {
   "cell_type": "code",
   "execution_count": 239,
   "metadata": {},
   "outputs": [],
   "source": [
    "#dropped.to_csv(cwd + \"/data/WB_reshaped_nomissing.csv\")"
   ]
  },
  {
   "cell_type": "markdown",
   "metadata": {},
   "source": [
    "#### 3.3 Groupby\n"
   ]
  },
  {
   "cell_type": "code",
   "execution_count": null,
   "metadata": {},
   "outputs": [],
   "source": [
    "df = dropped.copy()\n",
    "\n",
    "df.info()"
   ]
  },
  {
   "cell_type": "code",
   "execution_count": null,
   "metadata": {},
   "outputs": [],
   "source": [
    "df['???'] = df['???'].astype('???')"
   ]
  },
  {
   "cell_type": "code",
   "execution_count": null,
   "metadata": {},
   "outputs": [],
   "source": [
    "df.sample(4)"
   ]
  },
  {
   "cell_type": "code",
   "execution_count": null,
   "metadata": {},
   "outputs": [],
   "source": [
    "# only now we can grouby\n",
    "\n",
    "df.groupby(['country'])['gni_pc'].agg(['???'])"
   ]
  },
  {
   "cell_type": "markdown",
   "metadata": {},
   "source": [
    "#### 3.4 Features"
   ]
  },
  {
   "cell_type": "code",
   "execution_count": null,
   "metadata": {},
   "outputs": [],
   "source": [
    "df.describe()"
   ]
  },
  {
   "cell_type": "code",
   "execution_count": 218,
   "metadata": {},
   "outputs": [],
   "source": [
    "# df['gni_bil'] = round(df['gni']/1_000_000_000, 3)\n",
    "# df['pop_mil'] = round(df['gni']/1_000_000, 3)\n",
    "# df['gni_bil_pc'] = round(df['gni_pc']/1_000_000_000, 3)\n",
    "# df['prim_oos_pct'] = round(df['gni_pc']/1_000_000_000, 3)"
   ]
  },
  {
   "cell_type": "markdown",
   "metadata": {},
   "source": [
    "Suppose you estimate that working-age population is roughly 60% of the total population. You can create a dependency ratio:"
   ]
  },
  {
   "cell_type": "code",
   "execution_count": null,
   "metadata": {},
   "outputs": [],
   "source": [
    "df['primary_aged_total'] =\n",
    "df['primary_aged_of_pop'] = \n",
    "\n",
    "# using appy\n",
    "\n",
    "df['dependency'] = df.apply(\n",
    "    lambda row: row['primary_out_school_total'] / (row['pop'] * 0.6), axis=1\n",
    ")\n",
    "\n",
    "df.sample(3)"
   ]
  },
  {
   "cell_type": "code",
   "execution_count": 220,
   "metadata": {},
   "outputs": [],
   "source": [
    "# using a lambda function and mapping a dictionary\n",
    "\n",
    "income_groups = {\n",
    "    lambda x: x < 1045: 'low',\n",
    "    lambda x: 1045 <= x < 4095: 'low_mid',\n",
    "    lambda x: 4095 <= x < 12695: 'upp_mid',\n",
    "    lambda x: x >= 12695: 'high'\n",
    "}\n",
    "\n",
    "df['income_group'] = df['gni_pc'].map(\n",
    "    lambda x: next((v for k, v in income_groups.items() if k(x)), None)\n",
    ")\n",
    "df.income_group.value_counts()"
   ]
  },
  {
   "cell_type": "markdown",
   "metadata": {},
   "source": [
    "#### 3.5 Extra"
   ]
  },
  {
   "cell_type": "code",
   "execution_count": null,
   "metadata": {},
   "outputs": [],
   "source": [
    "df_highest_year = df.sort_values('???', ascending=False).drop_duplicates('???')\n",
    "df_highest_year"
   ]
  },
  {
   "cell_type": "code",
   "execution_count": null,
   "metadata": {},
   "outputs": [],
   "source": [
    "df_highest_year.boxplot(column='???')"
   ]
  },
  {
   "cell_type": "code",
   "execution_count": null,
   "metadata": {},
   "outputs": [],
   "source": [
    "df_highest_year.gni_pc.nlargest(10)"
   ]
  },
  {
   "cell_type": "code",
   "execution_count": null,
   "metadata": {},
   "outputs": [],
   "source": [
    "# show the box plot only for a given income group\n",
    "df_highest_year.loc[???].boxplot(column='gni_pc')"
   ]
  },
  {
   "cell_type": "code",
   "execution_count": null,
   "metadata": {},
   "outputs": [],
   "source": [
    "groups = ['high', 'upp_mid', 'low_mid', 'low']\n",
    "\n",
    "# Create a figure with subplots\n",
    "fig, axes = plt.subplots(1, len(groups), figsize=(12, 6))\n",
    "\n",
    "# Loop through each group and create a boxplot in the corresponding subplot\n",
    "for i, group in enumerate(groups):\n",
    "    df_highest_year.loc[df_highest_year['income_group'] == ???].boxplot(column='gni_pc', ax=axes[???])\n",
    "    axes[i].set_title(group)\n",
    "\n",
    "# Adjust layout\n",
    "plt.tight_layout()\n",
    "plt.show()"
   ]
  },
  {
   "cell_type": "code",
   "execution_count": null,
   "metadata": {},
   "outputs": [],
   "source": [
    "# compare\n",
    "df_highest_year.plot.scatter(x='???', y='???')"
   ]
  },
  {
   "cell_type": "code",
   "execution_count": null,
   "metadata": {},
   "outputs": [],
   "source": [
    "# compare\n",
    "df_highest_year."
   ]
  },
  {
   "cell_type": "code",
   "execution_count": null,
   "metadata": {},
   "outputs": [],
   "source": [
    "# Create a figure with subplots\n",
    "fig, axes = plt.subplots(1, len(groups), figsize=(12, 6))\n",
    "\n",
    "# Loop through each group and create a boxplot in the corresponding subplot\n",
    "for i, group in enumerate(groups):\n",
    "    ???\n",
    "    axes[i].set_title(group)\n",
    "\n",
    "# Adjust layout\n",
    "plt.tight_layout()\n",
    "plt.show()"
   ]
  },
  {
   "cell_type": "markdown",
   "metadata": {},
   "source": [
    "### 4. Background cleaning"
   ]
  },
  {
   "cell_type": "code",
   "execution_count": null,
   "metadata": {},
   "outputs": [],
   "source": [
    "df_WB = pd.read_csv(cwd + '/data/WB_full.csv')\n",
    "#df_meta = pd.read_csv(cwd + '/data/WB_metadata.csv')\n",
    "\n",
    "df_WB.head()"
   ]
  },
  {
   "cell_type": "code",
   "execution_count": 233,
   "metadata": {},
   "outputs": [],
   "source": [
    "# clean column names\n",
    "cols_to_clean = df_WB.columns.tolist()\n",
    "rename_dict = {col: col.split()[0] for col in cols_to_clean if '[YR' in col}\n",
    "df_WB = df_WB.rename(columns=rename_dict)"
   ]
  },
  {
   "cell_type": "markdown",
   "metadata": {},
   "source": [
    "The net enrollment rate excludes overage and underage students and more accurately captures the system's coverage and internal efficiency. Differences between the gross enrollment ratio and the net enrollment rate show the incidence of overage and underage enrollments.\n",
    "https://databank.worldbank.org/metadataglossary/world-development-indicators/series/SE.PRE.ENRR"
   ]
  },
  {
   "cell_type": "code",
   "execution_count": null,
   "metadata": {},
   "outputs": [],
   "source": [
    "df_WB['Series Name'].unique()"
   ]
  },
  {
   "cell_type": "code",
   "execution_count": 235,
   "metadata": {},
   "outputs": [],
   "source": [
    "series_to_keep = ['Population, total',\n",
    "                  'GNI, Atlas method (current US$)', 'GNI per capita, Atlas method (current US$)',\n",
    "                  'Children out of school, primary',\n",
    "                  'Children out of school (% of primary school age)'\n",
    "                  ]"
   ]
  },
  {
   "cell_type": "code",
   "execution_count": 236,
   "metadata": {},
   "outputs": [],
   "source": [
    "df_choice = df_WB.loc[df_WB['Series Name'].isin(series_to_keep)]\n",
    "\n",
    "country_groups = [\n",
    "    \"AFE\", \"AFW\", \"ARB\", \"CSS\", \"CEB\", \"EAR\", \"EAS\", \"EAP\", \"TEA\", \"EMU\", \n",
    "    \"ECS\", \"ECA\", \"TEC\", \"EUU\", \"FCS\", \"HPC\", \"HIC\", \"IBD\", \"IBT\", \"IDB\", \n",
    "    \"IDX\", \"IDA\", \"LTE\", \"LCN\", \"LAC\", \"TLA\", \"LDC\", \"LMY\", \"LIC\", \"LMC\", \n",
    "    \"MEA\", \"MNA\", \"TMN\", \"MIC\", \"NAC\", \"INX\", \"OED\", \"OSS\", \"PSS\", \"PST\", \n",
    "    \"PRE\", \"SST\", \"SAS\", \"TSA\", \"SSF\", \"SSA\", \"TSS\", \"UMC\"]\n",
    "\n",
    "world = [\"WLD\"]\n",
    "\n",
    "filtered_df = df_choice[~df_choice['Country Code'].isin(country_groups + world)]\n",
    "\n",
    "# download data\n",
    "#filtered_df.to_csv(cwd + '/data/WB_more_data.csv', index=False)"
   ]
  },
  {
   "cell_type": "code",
   "execution_count": null,
   "metadata": {},
   "outputs": [],
   "source": [
    "filtered_df.sample(5)"
   ]
  }
 ],
 "metadata": {
  "kernelspec": {
   "display_name": "brushup",
   "language": "python",
   "name": "python3"
  },
  "language_info": {
   "codemirror_mode": {
    "name": "ipython",
    "version": 3
   },
   "file_extension": ".py",
   "mimetype": "text/x-python",
   "name": "python",
   "nbconvert_exporter": "python",
   "pygments_lexer": "ipython3",
   "version": "3.12.5"
  }
 },
 "nbformat": 4,
 "nbformat_minor": 2
}
